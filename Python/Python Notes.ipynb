{
 "cells": [
  {
   "cell_type": "code",
   "execution_count": 1,
   "id": "7a3e37af-10e4-4135-9c93-edb6e25c7ccb",
   "metadata": {},
   "outputs": [
    {
     "data": {
      "text/plain": [
       "5"
      ]
     },
     "execution_count": 1,
     "metadata": {},
     "output_type": "execute_result"
    }
   ],
   "source": [
    "2+3"
   ]
  },
  {
   "cell_type": "code",
   "execution_count": 2,
   "id": "71ede71d-1d59-4f36-b261-175e31f1e60f",
   "metadata": {},
   "outputs": [
    {
     "data": {
      "text/plain": [
       "2"
      ]
     },
     "execution_count": 2,
     "metadata": {},
     "output_type": "execute_result"
    }
   ],
   "source": [
    "10//5"
   ]
  },
  {
   "cell_type": "code",
   "execution_count": 3,
   "id": "f6dcb586-1c81-4462-b494-b52f44511d6e",
   "metadata": {},
   "outputs": [
    {
     "data": {
      "text/plain": [
       "3"
      ]
     },
     "execution_count": 3,
     "metadata": {},
     "output_type": "execute_result"
    }
   ],
   "source": [
    "10//3"
   ]
  },
  {
   "cell_type": "code",
   "execution_count": 4,
   "id": "e7c3c3c1-dc3e-4334-be32-ae7813a89e0b",
   "metadata": {},
   "outputs": [
    {
     "data": {
      "text/plain": [
       "-4"
      ]
     },
     "execution_count": 4,
     "metadata": {},
     "output_type": "execute_result"
    }
   ],
   "source": [
    "10//-3"
   ]
  },
  {
   "cell_type": "code",
   "execution_count": 5,
   "id": "e8ebacd2-f218-49d4-abeb-97dcddcfca8f",
   "metadata": {},
   "outputs": [
    {
     "data": {
      "text/plain": [
       "16"
      ]
     },
     "execution_count": 5,
     "metadata": {},
     "output_type": "execute_result"
    }
   ],
   "source": [
    "4**2"
   ]
  },
  {
   "cell_type": "code",
   "execution_count": 6,
   "id": "f65e9b9c-9c6b-4910-a5ee-2083da866d3f",
   "metadata": {},
   "outputs": [
    {
     "data": {
      "text/plain": [
       "0.0625"
      ]
     },
     "execution_count": 6,
     "metadata": {},
     "output_type": "execute_result"
    }
   ],
   "source": [
    "4**-2"
   ]
  },
  {
   "cell_type": "code",
   "execution_count": 7,
   "id": "e36febd7-bd00-4c48-bda8-bab0dc34b6a7",
   "metadata": {},
   "outputs": [
    {
     "data": {
      "text/plain": [
       "0.25"
      ]
     },
     "execution_count": 7,
     "metadata": {},
     "output_type": "execute_result"
    }
   ],
   "source": [
    "4**-1"
   ]
  },
  {
   "cell_type": "code",
   "execution_count": 8,
   "id": "4b14c2a1-d717-4a54-b842-b418ac0d50b2",
   "metadata": {},
   "outputs": [
    {
     "data": {
      "text/plain": [
       "1"
      ]
     },
     "execution_count": 8,
     "metadata": {},
     "output_type": "execute_result"
    }
   ],
   "source": [
    "4**0"
   ]
  },
  {
   "cell_type": "code",
   "execution_count": 9,
   "id": "036e9518-a4bb-4ac9-aa8a-728e5e8695c8",
   "metadata": {},
   "outputs": [
    {
     "data": {
      "text/plain": [
       "2.0"
      ]
     },
     "execution_count": 9,
     "metadata": {},
     "output_type": "execute_result"
    }
   ],
   "source": [
    "4**1/2"
   ]
  },
  {
   "cell_type": "code",
   "execution_count": 13,
   "id": "f4e91cd5-70cc-4af5-8ee3-992e15785519",
   "metadata": {},
   "outputs": [
    {
     "data": {
      "text/plain": [
       "0.25"
      ]
     },
     "execution_count": 13,
     "metadata": {},
     "output_type": "execute_result"
    }
   ],
   "source": [
    "4**-1"
   ]
  },
  {
   "cell_type": "code",
   "execution_count": 20,
   "id": "f15067cb-671f-415e-abc0-1cb6df4be605",
   "metadata": {},
   "outputs": [
    {
     "data": {
      "text/plain": [
       "-4"
      ]
     },
     "execution_count": 20,
     "metadata": {},
     "output_type": "execute_result"
    }
   ],
   "source": [
    "-10    //    3"
   ]
  },
  {
   "cell_type": "code",
   "execution_count": 23,
   "id": "e7cdbcdb-b301-468a-9f36-7b95a3dc0f5d",
   "metadata": {},
   "outputs": [],
   "source": [
    "# hello world!"
   ]
  },
  {
   "cell_type": "code",
   "execution_count": 24,
   "id": "ce166c36-1d33-4627-b92e-1e0fb6f4c7f8",
   "metadata": {},
   "outputs": [],
   "source": [
    "age = 400"
   ]
  },
  {
   "cell_type": "code",
   "execution_count": 25,
   "id": "f101177d-25be-4843-952c-169d94906920",
   "metadata": {},
   "outputs": [
    {
     "data": {
      "text/plain": [
       "400"
      ]
     },
     "execution_count": 25,
     "metadata": {},
     "output_type": "execute_result"
    }
   ],
   "source": [
    "age"
   ]
  },
  {
   "cell_type": "code",
   "execution_count": 26,
   "id": "30d64e39-a85c-4590-b3c5-01505d46bf00",
   "metadata": {},
   "outputs": [
    {
     "data": {
      "text/plain": [
       "3783238"
      ]
     },
     "execution_count": 26,
     "metadata": {},
     "output_type": "execute_result"
    }
   ],
   "source": [
    "age +3782838"
   ]
  },
  {
   "cell_type": "code",
   "execution_count": 27,
   "id": "a8e6a0b0-7805-4ec4-a3c3-5f1df3a18c0d",
   "metadata": {},
   "outputs": [
    {
     "data": {
      "text/plain": [
       "400"
      ]
     },
     "execution_count": 27,
     "metadata": {},
     "output_type": "execute_result"
    }
   ],
   "source": [
    "age"
   ]
  },
  {
   "cell_type": "code",
   "execution_count": 28,
   "id": "8e703978-a54f-4303-91a5-7589755e1aaa",
   "metadata": {},
   "outputs": [],
   "source": [
    "age += 500"
   ]
  },
  {
   "cell_type": "code",
   "execution_count": 29,
   "id": "d4aeb9ec-c620-48ab-bac8-7eeacea9ae26",
   "metadata": {},
   "outputs": [
    {
     "data": {
      "text/plain": [
       "900"
      ]
     },
     "execution_count": 29,
     "metadata": {},
     "output_type": "execute_result"
    }
   ],
   "source": [
    "age"
   ]
  },
  {
   "cell_type": "code",
   "execution_count": null,
   "id": "38dec9a9-afb4-468e-ac0b-766467add0b4",
   "metadata": {},
   "outputs": [],
   "source": []
  }
 ],
 "metadata": {
  "kernelspec": {
   "display_name": "Python 3 (ipykernel)",
   "language": "python",
   "name": "python3"
  },
  "language_info": {
   "codemirror_mode": {
    "name": "ipython",
    "version": 3
   },
   "file_extension": ".py",
   "mimetype": "text/x-python",
   "name": "python",
   "nbconvert_exporter": "python",
   "pygments_lexer": "ipython3",
   "version": "3.10.8"
  }
 },
 "nbformat": 4,
 "nbformat_minor": 5
}
