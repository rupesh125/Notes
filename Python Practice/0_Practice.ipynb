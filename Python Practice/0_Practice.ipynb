{
  "cells": [
    {
      "cell_type": "markdown",
      "metadata": {
        "colab_type": "text",
        "id": "view-in-github"
      },
      "source": [
        "<a href=\"https://colab.research.google.com/github/rupesh125/Notes/blob/main/Practice.ipynb\" target=\"_parent\"><img src=\"https://colab.research.google.com/assets/colab-badge.svg\" alt=\"Open In Colab\"/></a>"
      ]
    },
    {
      "cell_type": "markdown",
      "metadata": {},
      "source": [
        "## String"
      ]
    },
    {
      "cell_type": "code",
      "execution_count": null,
      "metadata": {
        "colab": {
          "base_uri": "https://localhost:8080/"
        },
        "id": "088o36sFZHb_",
        "outputId": "1aa07daa-4fdd-4559-c107-247c4d30ee78"
      },
      "outputs": [],
      "source": [
        "len(\"hi\")"
      ]
    },
    {
      "cell_type": "code",
      "execution_count": null,
      "metadata": {
        "id": "HVInZrX-bgF8"
      },
      "outputs": [],
      "source": [
        "print(\"hello\")"
      ]
    },
    {
      "cell_type": "code",
      "execution_count": null,
      "metadata": {},
      "outputs": [],
      "source": [
        "f\"hello {2*84934*943948} quite unique name you have\""
      ]
    },
    {
      "cell_type": "code",
      "execution_count": null,
      "metadata": {},
      "outputs": [],
      "source": [
        "\"purpleface\".upper()"
      ]
    },
    {
      "cell_type": "code",
      "execution_count": null,
      "metadata": {},
      "outputs": [],
      "source": [
        "\"Egg\".lower()"
      ]
    },
    {
      "cell_type": "code",
      "execution_count": null,
      "metadata": {},
      "outputs": [],
      "source": [
        "first_name = \"JImmY\""
      ]
    },
    {
      "cell_type": "code",
      "execution_count": null,
      "metadata": {},
      "outputs": [],
      "source": [
        "first_name.lower()"
      ]
    },
    {
      "cell_type": "code",
      "execution_count": null,
      "metadata": {},
      "outputs": [],
      "source": [
        "first_name"
      ]
    },
    {
      "cell_type": "code",
      "execution_count": null,
      "metadata": {},
      "outputs": [],
      "source": [
        "first_name.capitalize()"
      ]
    },
    {
      "cell_type": "code",
      "execution_count": null,
      "metadata": {},
      "outputs": [],
      "source": [
        "\"miCHJEJ\".capitalize()"
      ]
    },
    {
      "cell_type": "code",
      "execution_count": null,
      "metadata": {},
      "outputs": [],
      "source": [
        "\"hello world\".capitalize()"
      ]
    },
    {
      "cell_type": "code",
      "execution_count": null,
      "metadata": {},
      "outputs": [],
      "source": [
        "\"vfvfd vdfv fdv dfvfdv\".capitalize()"
      ]
    },
    {
      "cell_type": "code",
      "execution_count": null,
      "metadata": {},
      "outputs": [],
      "source": [
        "help(\"str\")"
      ]
    },
    {
      "cell_type": "code",
      "execution_count": null,
      "metadata": {},
      "outputs": [],
      "source": [
        "first_name = \"rupesh\""
      ]
    },
    {
      "cell_type": "code",
      "execution_count": null,
      "metadata": {},
      "outputs": [],
      "source": [
        "first_name.capitalize?"
      ]
    },
    {
      "cell_type": "code",
      "execution_count": null,
      "metadata": {},
      "outputs": [],
      "source": [
        "first_name.strip?"
      ]
    },
    {
      "cell_type": "code",
      "execution_count": null,
      "metadata": {},
      "outputs": [],
      "source": [
        "\"   hello   \".strip()"
      ]
    },
    {
      "cell_type": "code",
      "execution_count": null,
      "metadata": {},
      "outputs": [],
      "source": [
        "first_name = 99"
      ]
    },
    {
      "cell_type": "code",
      "execution_count": null,
      "metadata": {},
      "outputs": [],
      "source": [
        "first_name.upper()"
      ]
    },
    {
      "cell_type": "code",
      "execution_count": null,
      "metadata": {},
      "outputs": [],
      "source": [
        "\"....,,,,,,hell.,,..ommmm,,,,....\".strip(\".,m\")"
      ]
    },
    {
      "cell_type": "code",
      "execution_count": null,
      "metadata": {},
      "outputs": [],
      "source": [
        "\"hahahaha\".replace(\"h\",\"wh\",2)"
      ]
    },
    {
      "cell_type": "code",
      "execution_count": 2,
      "metadata": {},
      "outputs": [],
      "source": [
        "races = \"3 kilometers 5 kilometers\"\n",
        "prices = \"$5 $39 $763\""
      ]
    },
    {
      "cell_type": "code",
      "execution_count": 3,
      "metadata": {},
      "outputs": [
        {
          "data": {
            "text/plain": [
              "'3 kms 5 kms'"
            ]
          },
          "execution_count": 3,
          "metadata": {},
          "output_type": "execute_result"
        }
      ],
      "source": [
        "races.replace(\"kilometer\",\"km\")"
      ]
    },
    {
      "cell_type": "code",
      "execution_count": 4,
      "metadata": {},
      "outputs": [
        {
          "data": {
            "text/plain": [
              "'5 39 $763'"
            ]
          },
          "execution_count": 4,
          "metadata": {},
          "output_type": "execute_result"
        }
      ],
      "source": [
        "prices.replace(\"$\",'',2)"
      ]
    },
    {
      "cell_type": "code",
      "execution_count": 11,
      "metadata": {},
      "outputs": [
        {
          "data": {
            "text/plain": [
              "'$5 $39 $763'"
            ]
          },
          "execution_count": 11,
          "metadata": {},
          "output_type": "execute_result"
        }
      ],
      "source": [
        "prices"
      ]
    },
    {
      "cell_type": "code",
      "execution_count": 14,
      "metadata": {},
      "outputs": [
        {
          "name": "stdout",
          "output_type": "stream",
          "text": [
            "0\n",
            "5\n",
            "4\n",
            "10\n",
            "10\n",
            "9\n",
            "-1\n"
          ]
        }
      ],
      "source": [
        "print(prices.find(\"$\"))\n",
        "print(prices.find(\"9\"))\n",
        "print(prices.find(\"3\"))\n",
        "print(prices.find(\"3\",5))\n",
        "print(prices.find(\"3\",5,11))\n",
        "print(prices.find(\"63\"))\n",
        "print(prices.find(\"99\"))"
      ]
    },
    {
      "cell_type": "code",
      "execution_count": 19,
      "metadata": {},
      "outputs": [],
      "source": [
        "fruits = \"Apple, Banana, Apple, Orange, Coconut\""
      ]
    },
    {
      "cell_type": "code",
      "execution_count": 21,
      "metadata": {},
      "outputs": [
        {
          "name": "stdout",
          "output_type": "stream",
          "text": [
            "2\n",
            "4\n",
            "1\n",
            "0\n",
            "0\n",
            "0\n"
          ]
        }
      ],
      "source": [
        "print(fruits.count(\"Apple\"))\n",
        "print(fruits.count(\",\"))\n",
        "print(fruits.count(\"Apple\",2))\n",
        "print(fruits.count(\"Apple\",20,900))\n",
        "print(fruits.count(\"Apple\",900))\n",
        "print(fruits.count(\"Chiku\"))"
      ]
    },
    {
      "cell_type": "code",
      "execution_count": 32,
      "metadata": {},
      "outputs": [
        {
          "data": {
            "text/plain": [
              "'****RUPESH@Gmail.com****'"
            ]
          },
          "execution_count": 32,
          "metadata": {},
          "output_type": "execute_result"
        }
      ],
      "source": [
        "email = \"****RUPESH@Gmail.com****\"\n",
        "email"
      ]
    },
    {
      "cell_type": "code",
      "execution_count": 33,
      "metadata": {},
      "outputs": [
        {
          "data": {
            "text/plain": [
              "'rupesh@gmail.com'"
            ]
          },
          "execution_count": 33,
          "metadata": {},
          "output_type": "execute_result"
        }
      ],
      "source": [
        "email.strip(\"*\").lower()"
      ]
    },
    {
      "cell_type": "code",
      "execution_count": 34,
      "metadata": {},
      "outputs": [
        {
          "name": "stdout",
          "output_type": "stream",
          "text": [
            "Help on method_descriptor:\n",
            "\n",
            "replace(self, old, new, count=-1, /)\n",
            "    Return a copy with all occurrences of substring old replaced by new.\n",
            "\n",
            "      count\n",
            "        Maximum number of occurrences to replace.\n",
            "        -1 (the default value) means replace all occurrences.\n",
            "\n",
            "    If the optional argument count is given, only the first count occurrences are\n",
            "    replaced.\n",
            "\n"
          ]
        }
      ],
      "source": [
        "help(str.replace)"
      ]
    },
    {
      "cell_type": "code",
      "execution_count": 37,
      "metadata": {},
      "outputs": [
        {
          "name": "stdout",
          "output_type": "stream",
          "text": [
            "3DDDD 4YYYY\n"
          ]
        }
      ],
      "source": [
        "format = \"3%D 4%Y\"\n",
        "\n",
        "replacement= { '%Y' : 'YYYY'\n",
        "              , \"%D\" : 'DDDD'}\n",
        "\n",
        "for search, replace in replacement.items():\n",
        "    format = format.replace(search,replace)\n",
        "\n",
        "print(format) \n"
      ]
    },
    {
      "cell_type": "code",
      "execution_count": 40,
      "metadata": {},
      "outputs": [
        {
          "name": "stdout",
          "output_type": "stream",
          "text": [
            "DOODYCALLS, A NATIONWIDE LEADER IN PET WASTE REMOVAL SERVICES, IS GROWING ITS FOOTPRINT IN THE POOPER SCOOPER INDUSTRY WITH THE OPENING OF AN OFFICE IN ORLANDO, FLORIDA. DOODYCALLS CURRENTLY CLEANS UP PET WASTE IN OVER 57 TERRITORIES ACROSS 23 STATES AND HAS BEEN NAMED THE NUMBER-ONE PET WASTE REMOVAL FRANCHISE IN THE UNITED STATES BY ENTREPRENEUR MAGAZINE'S ANNUAL FRANCHISE 500 LIST.\n"
          ]
        }
      ],
      "source": [
        "press_release = \"\"\"\n",
        "\n",
        "Doody Calls, a nationwide leader in dog poop removal services, is growing its footprint in the pooper scooper industry with the opening of an office in Orlando, Florida. Doody Calls currently cleans up dog poop in over 57 territories across 23 states and has been named the number-one dog poop removal franchise in the United States by Entrepreneur Magazine's annual Franchise 500 list.\n",
        "\n",
        "\"\"\"\n",
        "\n",
        "# # Remove the leading and trailing whitespace (new lines) from press_release\n",
        "press_release = press_release.strip().replace(\"dog poop\", \"pet waste\").replace(\"Doody Calls\", \"DoodyCalls\").upper()\n",
        "\n",
        "\n",
        "# # Replace the phrase \"dog poop\" with \"pet waste\" in the press release.  Our research shows \"pet waste\" tests better than \"dog poop\"\n",
        "# press_release = press_release.replace(\"dog poop\", \"pet waste\")\n",
        "\n",
        "\n",
        "# # We changed our company name! replace the phrase \"Doody Calls\" with \"DoodyCalls\" (no space between the words)\n",
        "# press_release = press_release.replace(\"Doody Calls\", \"DoodyCalls\")\n",
        "\n",
        "\n",
        "# # Our research shows that it's best to shout our press releases. Make the entire press release uppercased!\n",
        "# press_release = press_release.upper()\n",
        "\n",
        "# Print out the updated press release with all of the above changes:\n",
        "print(press_release)\n",
        "\n"
      ]
    },
    {
      "cell_type": "markdown",
      "metadata": {},
      "source": [
        "## Boolean"
      ]
    },
    {
      "cell_type": "code",
      "execution_count": 41,
      "metadata": {},
      "outputs": [
        {
          "data": {
            "text/plain": [
              "True"
            ]
          },
          "execution_count": 41,
          "metadata": {},
          "output_type": "execute_result"
        }
      ],
      "source": [
        "True"
      ]
    },
    {
      "cell_type": "code",
      "execution_count": 43,
      "metadata": {},
      "outputs": [
        {
          "ename": "NameError",
          "evalue": "name 'true' is not defined",
          "output_type": "error",
          "traceback": [
            "\u001b[0;31m---------------------------------------------------------------------------\u001b[0m",
            "\u001b[0;31mNameError\u001b[0m                                 Traceback (most recent call last)",
            "Cell \u001b[0;32mIn[43], line 1\u001b[0m\n\u001b[0;32m----> 1\u001b[0m \u001b[43mtrue\u001b[49m\n",
            "\u001b[0;31mNameError\u001b[0m: name 'true' is not defined"
          ]
        }
      ],
      "source": [
        "true"
      ]
    },
    {
      "cell_type": "code",
      "execution_count": 44,
      "metadata": {},
      "outputs": [
        {
          "data": {
            "text/plain": [
              "1"
            ]
          },
          "execution_count": 44,
          "metadata": {},
          "output_type": "execute_result"
        }
      ],
      "source": [
        "False+1"
      ]
    },
    {
      "cell_type": "code",
      "execution_count": 45,
      "metadata": {},
      "outputs": [
        {
          "data": {
            "text/plain": [
              "bool"
            ]
          },
          "execution_count": 45,
          "metadata": {},
          "output_type": "execute_result"
        }
      ],
      "source": [
        "type(True)"
      ]
    },
    {
      "cell_type": "code",
      "execution_count": 46,
      "metadata": {},
      "outputs": [],
      "source": [
        "age = 28"
      ]
    },
    {
      "cell_type": "code",
      "execution_count": 47,
      "metadata": {},
      "outputs": [
        {
          "data": {
            "text/plain": [
              "True"
            ]
          },
          "execution_count": 47,
          "metadata": {},
          "output_type": "execute_result"
        }
      ],
      "source": [
        "age>21"
      ]
    },
    {
      "cell_type": "code",
      "execution_count": 48,
      "metadata": {},
      "outputs": [
        {
          "data": {
            "text/plain": [
              "True"
            ]
          },
          "execution_count": 48,
          "metadata": {},
          "output_type": "execute_result"
        }
      ],
      "source": [
        "age >= 28"
      ]
    },
    {
      "cell_type": "code",
      "execution_count": 49,
      "metadata": {},
      "outputs": [
        {
          "data": {
            "text/plain": [
              "False"
            ]
          },
          "execution_count": 49,
          "metadata": {},
          "output_type": "execute_result"
        }
      ],
      "source": [
        "age >28"
      ]
    },
    {
      "cell_type": "code",
      "execution_count": 50,
      "metadata": {},
      "outputs": [
        {
          "data": {
            "text/plain": [
              "False"
            ]
          },
          "execution_count": 50,
          "metadata": {},
          "output_type": "execute_result"
        }
      ],
      "source": [
        "age <18"
      ]
    },
    {
      "cell_type": "code",
      "execution_count": 51,
      "metadata": {},
      "outputs": [
        {
          "data": {
            "text/plain": [
              "False"
            ]
          },
          "execution_count": 51,
          "metadata": {},
          "output_type": "execute_result"
        }
      ],
      "source": [
        "age <=27"
      ]
    },
    {
      "cell_type": "code",
      "execution_count": 52,
      "metadata": {},
      "outputs": [
        {
          "data": {
            "text/plain": [
              "True"
            ]
          },
          "execution_count": 52,
          "metadata": {},
          "output_type": "execute_result"
        }
      ],
      "source": [
        "age <=28"
      ]
    },
    {
      "cell_type": "code",
      "execution_count": 54,
      "metadata": {},
      "outputs": [
        {
          "data": {
            "text/plain": [
              "False"
            ]
          },
          "execution_count": 54,
          "metadata": {},
          "output_type": "execute_result"
        }
      ],
      "source": [
        "\"hello\" == \"HELLO\""
      ]
    },
    {
      "cell_type": "code",
      "execution_count": 55,
      "metadata": {},
      "outputs": [
        {
          "data": {
            "text/plain": [
              "True"
            ]
          },
          "execution_count": 55,
          "metadata": {},
          "output_type": "execute_result"
        }
      ],
      "source": [
        "\"hello\"==\"hello\""
      ]
    },
    {
      "cell_type": "code",
      "execution_count": 57,
      "metadata": {},
      "outputs": [
        {
          "data": {
            "text/plain": [
              "True"
            ]
          },
          "execution_count": 57,
          "metadata": {},
          "output_type": "execute_result"
        }
      ],
      "source": [
        "\"Hello\" == \"hello\".capitalize()"
      ]
    },
    {
      "cell_type": "code",
      "execution_count": 58,
      "metadata": {},
      "outputs": [
        {
          "data": {
            "text/plain": [
              "True"
            ]
          },
          "execution_count": 58,
          "metadata": {},
          "output_type": "execute_result"
        }
      ],
      "source": [
        "0==0"
      ]
    },
    {
      "cell_type": "code",
      "execution_count": 59,
      "metadata": {},
      "outputs": [
        {
          "data": {
            "text/plain": [
              "True"
            ]
          },
          "execution_count": 59,
          "metadata": {},
          "output_type": "execute_result"
        }
      ],
      "source": [
        "\"hello\" != \"hello\".capitalize()"
      ]
    },
    {
      "cell_type": "code",
      "execution_count": 60,
      "metadata": {},
      "outputs": [
        {
          "data": {
            "text/plain": [
              "True"
            ]
          },
          "execution_count": 60,
          "metadata": {},
          "output_type": "execute_result"
        }
      ],
      "source": [
        "4.0 ==4"
      ]
    },
    {
      "cell_type": "code",
      "execution_count": 61,
      "metadata": {},
      "outputs": [
        {
          "data": {
            "text/plain": [
              "False"
            ]
          },
          "execution_count": 61,
          "metadata": {},
          "output_type": "execute_result"
        }
      ],
      "source": [
        "\"4\" ==4"
      ]
    },
    {
      "cell_type": "code",
      "execution_count": 62,
      "metadata": {},
      "outputs": [
        {
          "data": {
            "text/plain": [
              "True"
            ]
          },
          "execution_count": 62,
          "metadata": {},
          "output_type": "execute_result"
        }
      ],
      "source": [
        "int(\"4\") == 4"
      ]
    },
    {
      "cell_type": "code",
      "execution_count": 63,
      "metadata": {},
      "outputs": [
        {
          "data": {
            "text/plain": [
              "False"
            ]
          },
          "execution_count": 63,
          "metadata": {},
          "output_type": "execute_result"
        }
      ],
      "source": [
        "bool(0.0)"
      ]
    },
    {
      "cell_type": "code",
      "execution_count": 64,
      "metadata": {},
      "outputs": [
        {
          "data": {
            "text/plain": [
              "True"
            ]
          },
          "execution_count": 64,
          "metadata": {},
          "output_type": "execute_result"
        }
      ],
      "source": [
        "bool(-3232)"
      ]
    },
    {
      "cell_type": "code",
      "execution_count": 65,
      "metadata": {},
      "outputs": [
        {
          "data": {
            "text/plain": [
              "True"
            ]
          },
          "execution_count": 65,
          "metadata": {},
          "output_type": "execute_result"
        }
      ],
      "source": [
        "bool(3987837892)"
      ]
    },
    {
      "cell_type": "code",
      "execution_count": 66,
      "metadata": {},
      "outputs": [
        {
          "data": {
            "text/plain": [
              "False"
            ]
          },
          "execution_count": 66,
          "metadata": {},
          "output_type": "execute_result"
        }
      ],
      "source": [
        "bool(\"\")"
      ]
    },
    {
      "cell_type": "code",
      "execution_count": 67,
      "metadata": {},
      "outputs": [
        {
          "data": {
            "text/plain": [
              "True"
            ]
          },
          "execution_count": 67,
          "metadata": {},
          "output_type": "execute_result"
        }
      ],
      "source": [
        "bool(\"cbdscyds\")"
      ]
    },
    {
      "cell_type": "code",
      "execution_count": 68,
      "metadata": {},
      "outputs": [
        {
          "data": {
            "text/plain": [
              "False"
            ]
          },
          "execution_count": 68,
          "metadata": {},
          "output_type": "execute_result"
        }
      ],
      "source": [
        "bool({})"
      ]
    },
    {
      "cell_type": "code",
      "execution_count": 71,
      "metadata": {},
      "outputs": [
        {
          "data": {
            "text/plain": [
              "True"
            ]
          },
          "execution_count": 71,
          "metadata": {},
          "output_type": "execute_result"
        }
      ],
      "source": [
        "bool({1:1})"
      ]
    },
    {
      "cell_type": "code",
      "execution_count": 72,
      "metadata": {},
      "outputs": [
        {
          "data": {
            "text/plain": [
              "False"
            ]
          },
          "execution_count": 72,
          "metadata": {},
          "output_type": "execute_result"
        }
      ],
      "source": [
        "bool(\"\"\"\"\"\")"
      ]
    },
    {
      "cell_type": "code",
      "execution_count": 73,
      "metadata": {},
      "outputs": [
        {
          "data": {
            "text/plain": [
              "False"
            ]
          },
          "execution_count": 73,
          "metadata": {},
          "output_type": "execute_result"
        }
      ],
      "source": [
        "\"A\" in \"apple\""
      ]
    },
    {
      "cell_type": "code",
      "execution_count": 74,
      "metadata": {},
      "outputs": [
        {
          "data": {
            "text/plain": [
              "True"
            ]
          },
          "execution_count": 74,
          "metadata": {},
          "output_type": "execute_result"
        }
      ],
      "source": [
        "\"a\" in \"apple\""
      ]
    },
    {
      "cell_type": "code",
      "execution_count": 75,
      "metadata": {},
      "outputs": [
        {
          "ename": "TypeError",
          "evalue": "'in <string>' requires string as left operand, not int",
          "output_type": "error",
          "traceback": [
            "\u001b[0;31m---------------------------------------------------------------------------\u001b[0m",
            "\u001b[0;31mTypeError\u001b[0m                                 Traceback (most recent call last)",
            "Cell \u001b[0;32mIn[75], line 1\u001b[0m\n\u001b[0;32m----> 1\u001b[0m \u001b[38;5;241;43m1\u001b[39;49m\u001b[43m \u001b[49m\u001b[38;5;129;43;01min\u001b[39;49;00m\u001b[43m \u001b[49m\u001b[38;5;124;43m\"\u001b[39;49m\u001b[38;5;124;43m32323\u001b[39;49m\u001b[38;5;124;43m\"\u001b[39;49m\n",
            "\u001b[0;31mTypeError\u001b[0m: 'in <string>' requires string as left operand, not int"
          ]
        }
      ],
      "source": [
        "1 in \"32323\""
      ]
    },
    {
      "cell_type": "code",
      "execution_count": 77,
      "metadata": {},
      "outputs": [
        {
          "data": {
            "text/plain": [
              "36"
            ]
          },
          "execution_count": 77,
          "metadata": {},
          "output_type": "execute_result"
        }
      ],
      "source": [
        "ord(\"$\")"
      ]
    },
    {
      "cell_type": "code",
      "execution_count": 79,
      "metadata": {},
      "outputs": [
        {
          "data": {
            "text/plain": [
              "65"
            ]
          },
          "execution_count": 79,
          "metadata": {},
          "output_type": "execute_result"
        }
      ],
      "source": [
        "ord(\"A\")"
      ]
    },
    {
      "cell_type": "code",
      "execution_count": 80,
      "metadata": {},
      "outputs": [
        {
          "data": {
            "text/plain": [
              "64"
            ]
          },
          "execution_count": 80,
          "metadata": {},
          "output_type": "execute_result"
        }
      ],
      "source": [
        "ord(\"@\")"
      ]
    },
    {
      "cell_type": "code",
      "execution_count": 86,
      "metadata": {},
      "outputs": [
        {
          "name": "stdout",
          "output_type": "stream",
          "text": [
            "\u0000\t\u0001\t\u0002\t\u0003\t\u0004\t\u0005\t\u0006\t\u0007\t\t\t\n",
            "\t\u000e\t\u000f\t\u0010\t\u0011\t\u0012\t\u0013\t\u0014\t\u0015\t\u0016\t\u0017\t\u0018\t\u0019\t\u001a\t\u001b\t\u001c\t\u001d\t\u001e\t\u001f\t \t!\t\"\t#\t$\t%\t&\t'\t(\t)\t*\t+\t,\t-\t.\t/\t0\t1\t2\t3\t4\t5\t6\t7\t8\t9\t:\t;\t<\t=\t>\t?\t@\tA\tB\tC\tD\tE\tF\tG\tH\tI\tJ\tK\tL\tM\tN\tO\tP\tQ\tR\tS\tT\tU\tV\tW\tX\tY\tZ\t[\t\\\t]\t^\t_\t`\ta\tb\tc\td\te\tf\tg\th\ti\tj\tk\tl\tm\tn\to\tp\tq\tr\ts\tt\tu\tv\tw\tx\ty\tz\t{\t|\t}\t~\t\t\t\t\t\t\t\t\t\t\t\t\t\t\t\t\t\t\t\t\t\t\t\t\t\t\t\t\t\t\t\t\t\t \t¡\t¢\t£\t¤\t¥\t¦\t§\t¨\t©\tª\t«\t¬\t­\t®\t¯\t°\t±\t²\t³\t´\tµ\t¶\t·\t¸\t¹\tº\t»\t¼\t½\t¾\t¿\tÀ\tÁ\tÂ\tÃ\tÄ\tÅ\tÆ\tÇ\tÈ\tÉ\tÊ\tË\tÌ\tÍ\tÎ\tÏ\tÐ\tÑ\tÒ\tÓ\tÔ\tÕ\tÖ\t×\tØ\tÙ\tÚ\tÛ\tÜ\tÝ\tÞ\tß\tà\tá\tâ\tã\tä\tå\tæ\tç\tè\té\tê\të\tì\tí\tî\tï\tð\tñ\tò\tó\tô\tõ\tö\t÷\tø\tù\tú\tû\tü\tý\tþ\tÿ\tĀ\tā\tĂ\tă\tĄ\tą\tĆ\tć\tĈ\tĉ\tĊ\tċ\tČ\tč\tĎ\tď\tĐ\tđ\tĒ\tē\tĔ\tĕ\tĖ\tė\tĘ\tę\tĚ\tě\tĜ\tĝ\tĞ\tğ\tĠ\tġ\tĢ\tģ\tĤ\tĥ\tĦ\tħ\tĨ\tĩ\tĪ\tī\tĬ\tĭ\tĮ\tį\tİ\tı\tĲ\tĳ\tĴ\tĵ\tĶ\tķ\tĸ\tĹ\tĺ\tĻ\tļ\tĽ\tľ\tĿ\tŀ\tŁ\tł\tŃ\tń\tŅ\tņ\tŇ\tň\tŉ\tŊ\tŋ\tŌ\tō\tŎ\tŏ\tŐ\tő\tŒ\tœ\tŔ\tŕ\tŖ\tŗ\tŘ\tř\tŚ\tś\tŜ\tŝ\tŞ\tş\tŠ\tš\tŢ\tţ\tŤ\tť\tŦ\tŧ\tŨ\tũ\tŪ\tū\tŬ\tŭ\tŮ\tů\tŰ\tű\tŲ\tų\tŴ\tŵ\tŶ\tŷ\tŸ\tŹ\tź\tŻ\tż\tŽ\tž\tſ\tƀ\tƁ\tƂ\tƃ\tƄ\tƅ\tƆ\tƇ\tƈ\tƉ\tƊ\tƋ\tƌ\tƍ\tƎ\tƏ\tƐ\tƑ\tƒ\tƓ\tƔ\tƕ\tƖ\tƗ\tƘ\tƙ\tƚ\tƛ\tƜ\tƝ\tƞ\tƟ\tƠ\tơ\tƢ\tƣ\tƤ\tƥ\tƦ\tƧ\tƨ\tƩ\tƪ\tƫ\tƬ\tƭ\tƮ\tƯ\tư\tƱ\tƲ\tƳ\tƴ\tƵ\tƶ\tƷ\tƸ\tƹ\tƺ\tƻ\tƼ\tƽ\tƾ\tƿ\tǀ\tǁ\tǂ\tǃ\tǄ\tǅ\tǆ\tǇ\tǈ\tǉ\tǊ\tǋ\tǌ\tǍ\tǎ\tǏ\tǐ\tǑ\tǒ\tǓ\tǔ\tǕ\tǖ\tǗ\tǘ\tǙ\tǚ\tǛ\tǜ\tǝ\tǞ\tǟ\tǠ\tǡ\tǢ\tǣ\tǤ\tǥ\tǦ\tǧ\tǨ\tǩ\tǪ\tǫ\tǬ\tǭ\tǮ\tǯ\tǰ\tǱ\tǲ\tǳ\tǴ\tǵ\tǶ\tǷ\tǸ\tǹ\tǺ\tǻ\tǼ\tǽ\tǾ\tǿ\tȀ\tȁ\tȂ\tȃ\tȄ\tȅ\tȆ\tȇ\tȈ\tȉ\tȊ\tȋ\tȌ\tȍ\tȎ\tȏ\tȐ\tȑ\tȒ\tȓ\tȔ\tȕ\tȖ\tȗ\tȘ\tș\tȚ\tț\tȜ\tȝ\tȞ\tȟ\tȠ\tȡ\tȢ\tȣ\tȤ\tȥ\tȦ\tȧ\tȨ\tȩ\tȪ\tȫ\tȬ\tȭ\tȮ\tȯ\tȰ\tȱ\tȲ\tȳ\tȴ\tȵ\tȶ\tȷ\tȸ\tȹ\tȺ\tȻ\tȼ\tȽ\tȾ\tȿ\tɀ\tɁ\tɂ\tɃ\tɄ\tɅ\tɆ\tɇ\tɈ\tɉ\tɊ\tɋ\tɌ\tɍ\tɎ\tɏ\tɐ\tɑ\tɒ\tɓ\tɔ\tɕ\tɖ\tɗ\tɘ\tə\tɚ\tɛ\tɜ\tɝ\tɞ\tɟ\tɠ\tɡ\tɢ\tɣ\tɤ\tɥ\tɦ\tɧ\tɨ\tɩ\tɪ\tɫ\tɬ\tɭ\tɮ\tɯ\tɰ\tɱ\tɲ\tɳ\tɴ\tɵ\tɶ\tɷ\tɸ\tɹ\tɺ\tɻ\tɼ\tɽ\tɾ\tɿ\tʀ\tʁ\tʂ\tʃ\tʄ\tʅ\tʆ\tʇ\tʈ\tʉ\tʊ\tʋ\tʌ\tʍ\tʎ\tʏ\tʐ\tʑ\tʒ\tʓ\tʔ\tʕ\tʖ\tʗ\tʘ\tʙ\tʚ\tʛ\tʜ\tʝ\tʞ\tʟ\tʠ\tʡ\tʢ\tʣ\tʤ\tʥ\tʦ\tʧ\tʨ\tʩ\tʪ\tʫ\tʬ\tʭ\tʮ\tʯ\tʰ\tʱ\tʲ\tʳ\tʴ\tʵ\tʶ\tʷ\tʸ\tʹ\tʺ\tʻ\tʼ\tʽ\tʾ\tʿ\tˀ\tˁ\t˂\t˃\t˄\t˅\tˆ\tˇ\tˈ\tˉ\tˊ\tˋ\tˌ\tˍ\tˎ\tˏ\tː\tˑ\t˒\t˓\t˔\t˕\t˖\t˗\t˘\t˙\t˚\t˛\t˜\t˝\t˞\t˟\tˠ\tˡ\tˢ\tˣ\tˤ\t˥\t˦\t˧\t˨\t˩\t˪\t˫\tˬ\t˭\tˮ\t˯\t˰\t˱\t˲\t˳\t˴\t˵\t˶\t˷\t˸\t˹\t˺\t˻\t˼\t˽\t˾\t˿\t̀\t́\t̂\t̃\t̄\t̅\t̆\ṫ\ẗ\t̉\t̊\t̋\ť\t̍\t̎\t̏\t̐\t̑\t̒\t̓\t̔\t̕\t̖\t̗\t̘\t̙\t̚\t̛\t̜\t̝\t̞\t̟\t̠\t̡\t̢\ṭ\t̤\t̥\ț\ţ\t̨\t̩\t̪\t̫\t̬\ṱ\t̮\t̯\t̰\ṯ\t̲\t̳\t̴\t̵\t̶\t̷\t̸\t̹\t̺\t̻\t̼\t̽\t̾\t̿\t̀\t́\t͂\t̓\ẗ́\tͅ\t͆\t͇\t͈\t͉\t͊\t͋\t͌\t͍\t͎\t͏\t͐\t͑\t͒\t͓\t͔\t͕\t͖\t͗\t͘\t͙\t͚\t͛\t͜\t͝\t͞\t͟\t͠\t͡\t͢\tͣ\tͤ\tͥ\tͦ\tͧ\tͨ\tͩ\tͪ\tͫ\tͬ\tͭ\tͮ\tͯ\tͰ\tͱ\tͲ\tͳ\tʹ\t͵\tͶ\tͷ\t͸\t͹\tͺ\tͻ\tͼ\tͽ\t;\tͿ\t΀\t΁\t΂\t΃\t΄\t΅\tΆ\t·\tΈ\tΉ\tΊ\t΋\tΌ\t΍\tΎ\tΏ\tΐ\tΑ\tΒ\tΓ\tΔ\tΕ\tΖ\tΗ\tΘ\tΙ\tΚ\tΛ\tΜ\tΝ\tΞ\tΟ\tΠ\tΡ\t΢\tΣ\tΤ\tΥ\tΦ\tΧ\tΨ\tΩ\tΪ\tΫ\tά\tέ\tή\tί\tΰ\tα\tβ\tγ\tδ\tε\tζ\tη\tθ\tι\tκ\tλ\tμ\tν\tξ\tο\tπ\tρ\tς\tσ\tτ\tυ\tφ\tχ\tψ\tω\tϊ\tϋ\tό\tύ\tώ\tϏ\tϐ\tϑ\tϒ\tϓ\tϔ\tϕ\tϖ\tϗ\tϘ\tϙ\tϚ\tϛ\tϜ\tϝ\tϞ\tϟ\tϠ\tϡ\tϢ\tϣ\tϤ\tϥ\tϦ\tϧ\tϨ\tϩ\tϪ\tϫ\tϬ\tϭ\tϮ\tϯ\tϰ\tϱ\tϲ\tϳ\tϴ\tϵ\t϶\tϷ\tϸ\tϹ\tϺ\tϻ\tϼ\tϽ\tϾ\tϿ\tЀ\tЁ\tЂ\tЃ\tЄ\tЅ\tІ\tЇ\tЈ\tЉ\tЊ\tЋ\tЌ\tЍ\tЎ\tЏ\tА\tБ\tВ\tГ\tД\tЕ\tЖ\tЗ\tИ\tЙ\tК\tЛ\tМ\tН\tО\tП\tР\tС\tТ\tУ\tФ\tХ\tЦ\tЧ\tШ\tЩ\tЪ\tЫ\tЬ\tЭ\tЮ\tЯ\tа\tб\tв\tг\tд\tе\tж\tз\tи\tй\tк\tл\tм\tн\tо\tп\tр\tс\tт\tу\tф\tх\tц\tч\tш\tщ\tъ\tы\tь\tэ\tю\tя\tѐ\tё\tђ\tѓ\tє\tѕ\tі\tї\tј\tљ\tњ\tћ\tќ\tѝ\tў\tџ\tѠ\tѡ\tѢ\tѣ\tѤ\tѥ\tѦ\tѧ\tѨ\tѩ\tѪ\tѫ\tѬ\tѭ\tѮ\tѯ\tѰ\tѱ\tѲ\tѳ\tѴ\tѵ\tѶ\tѷ\tѸ\tѹ\tѺ\tѻ\tѼ\tѽ\tѾ\tѿ\tҀ\tҁ\t҂\t҃\t҄\t҅\t҆\t҇\t҈\t҉\tҊ\tҋ\tҌ\tҍ\tҎ\tҏ\tҐ\tґ\tҒ\tғ\tҔ\tҕ\tҖ\tҗ\tҘ\tҙ\tҚ\tқ\tҜ\tҝ\tҞ\tҟ\tҠ\tҡ\tҢ\tң\tҤ\tҥ\tҦ\tҧ\tҨ\tҩ\tҪ\tҫ\tҬ\tҭ\tҮ\tү\tҰ\tұ\tҲ\tҳ\tҴ\tҵ\tҶ\tҷ\tҸ\tҹ\tҺ\tһ\tҼ\tҽ\tҾ\tҿ\tӀ\tӁ\tӂ\tӃ\tӄ\tӅ\tӆ\tӇ\tӈ\tӉ\tӊ\tӋ\tӌ\tӍ\tӎ\tӏ\tӐ\tӑ\tӒ\tӓ\tӔ\tӕ\tӖ\tӗ\tӘ\tә\tӚ\tӛ\tӜ\tӝ\tӞ\tӟ\tӠ\tӡ\tӢ\tӣ\tӤ\tӥ\tӦ\tӧ\tӨ\tө\tӪ\tӫ\tӬ\tӭ\tӮ\tӯ\tӰ\tӱ\tӲ\tӳ\tӴ\tӵ\tӶ\tӷ\tӸ\tӹ\tӺ\tӻ\tӼ\tӽ\tӾ\tӿ\tԀ\tԁ\tԂ\tԃ\tԄ\tԅ\tԆ\tԇ\tԈ\tԉ\tԊ\tԋ\tԌ\tԍ\tԎ\tԏ\tԐ\tԑ\tԒ\tԓ\tԔ\tԕ\tԖ\tԗ\tԘ\tԙ\tԚ\tԛ\tԜ\tԝ\tԞ\tԟ\tԠ\tԡ\tԢ\tԣ\tԤ\tԥ\tԦ\tԧ\tԨ\tԩ\tԪ\tԫ\tԬ\tԭ\tԮ\tԯ\t԰\tԱ\tԲ\tԳ\tԴ\tԵ\tԶ\tԷ\tԸ\tԹ\tԺ\tԻ\tԼ\tԽ\tԾ\tԿ\tՀ\tՁ\tՂ\tՃ\tՄ\tՅ\tՆ\tՇ\tՈ\tՉ\tՊ\tՋ\tՌ\tՍ\tՎ\tՏ\tՐ\tՑ\tՒ\tՓ\tՔ\tՕ\tՖ\t՗\t՘\tՙ\t՚\t՛\t՜\t՝\t՞\t՟\tՠ\tա\tբ\tգ\tդ\tե\tզ\tէ\tը\tթ\tժ\tի\tլ\tխ\tծ\tկ\tհ\tձ\tղ\tճ\tմ\tյ\tն\tշ\tո\tչ\tպ\tջ\tռ\tս\tվ\tտ\tր\tց\tւ\tփ\tք\tօ\tֆ\tև\tֈ\t։\t֊\t֋\t֌\t֍\t֎\t֏\t֐\t֑\t֒\t֓\t֔\t֕\t֖\t֗\t֘\t֙\t֚\t֛\t֜\t֝\t֞\t֟\t֠\t֡\t֢\t֣\t֤\t֥\t֦\t֧\t֨\t֩\t֪\t֫\t֬\t֭\t֮\t֯\tְ\tֱ\tֲ\tֳ\tִ\tֵ\tֶ\tַ\tָ\tֹ\tֺ\tֻ\tּ\tֽ\t־\tֿ\t׀\tׁ\tׂ\t׃\tׄ\tׅ\t׆\tׇ\t׈\t׉\t׊\t׋\t׌\t׍\t׎\t׏\tא\tב\tג\tד\tה\tו\tז\tח\tט\tי\tך\tכ\tל\tם\tמ\tן\tנ\tס\tע\tף\tפ\tץ\tצ\tק\tר\tש\tת\t׫\t׬\t׭\t׮\tׯ\tװ\tױ\tײ\t׳\t״\t׵\t׶\t׷\t׸\t׹\t׺\t׻\t׼\t׽\t׾\t׿\t؀\t؁\t؂\t؃\t؄\t؅\t؆\t؇\t؈\t؉\t؊\t؋\t،\t؍\t؎\t؏\tؐ\tؑ\tؒ\tؓ\tؔ\tؕ\tؖ\tؗ\tؘ\tؙ\tؚ\t؛\t؜\t؝\t؞\t؟\tؠ\tء\tآ\tأ\tؤ\tإ\tئ\tا\tب\tة\tت\tث\tج\tح\tخ\tد\tذ\tر\tز\tس\tش\tص\tض\tط\tظ\tع\tغ\tػ\tؼ\tؽ\tؾ\tؿ\tـ\tف\tق\tك\tل\tم\tن\tه\tو\tى\tي\tً\tٌ\tٍ\tَ\tُ\tِ\tّ\tْ\tٓ\tٔ\tٕ\tٖ\tٗ\t٘\tٙ\tٚ\tٛ\tٜ\tٝ\tٞ\tٟ\t٠\t١\t٢\t٣\t٤\t٥\t٦\t٧\t٨\t٩\t٪\t٫\t٬\t٭\tٮ\tٯ\tٰ\tٱ\tٲ\tٳ\tٴ\tٵ\tٶ\tٷ\tٸ\tٹ\tٺ\tٻ\tټ\tٽ\tپ\tٿ\tڀ\tځ\tڂ\tڃ\tڄ\tڅ\tچ\tڇ\tڈ\tډ\tڊ\tڋ\tڌ\tڍ\tڎ\tڏ\tڐ\tڑ\tڒ\tړ\tڔ\tڕ\tږ\tڗ\tژ\tڙ\tښ\tڛ\tڜ\tڝ\tڞ\tڟ\tڠ\tڡ\tڢ\tڣ\tڤ\tڥ\tڦ\tڧ\tڨ\tک\tڪ\tګ\tڬ\tڭ\tڮ\tگ\tڰ\tڱ\tڲ\tڳ\tڴ\tڵ\tڶ\tڷ\tڸ\tڹ\tں\tڻ\tڼ\tڽ\tھ\tڿ\tۀ\tہ\tۂ\tۃ\tۄ\tۅ\tۆ\tۇ\tۈ\tۉ\tۊ\tۋ\tی\tۍ\tێ\tۏ\tې\tۑ\tے\tۓ\t۔\tە\tۖ\tۗ\tۘ\tۙ\tۚ\tۛ\tۜ\t۝\t۞\t۟\t۠\tۡ\tۢ\tۣ\tۤ\tۥ\tۦ\tۧ\tۨ\t۩\t۪\t۫\t۬\tۭ\tۮ\tۯ\t۰\t۱\t۲\t۳\t۴\t۵\t۶\t۷\t۸\t۹\tۺ\tۻ\tۼ\t۽\t۾\tۿ\t܀\t܁\t܂\t܃\t܄\t܅\t܆\t܇\t܈\t܉\t܊\t܋\t܌\t܍\t܎\t܏\tܐ\tܑ\tܒ\tܓ\tܔ\tܕ\tܖ\tܗ\tܘ\tܙ\tܚ\tܛ\tܜ\tܝ\tܞ\tܟ\tܠ\tܡ\tܢ\tܣ\tܤ\tܥ\tܦ\tܧ\tܨ\tܩ\tܪ\tܫ\tܬ\tܭ\tܮ\tܯ\tܰ\tܱ\tܲ\tܳ\tܴ\tܵ\tܶ\tܷ\tܸ\tܹ\tܺ\tܻ\tܼ\tܽ\tܾ\tܿ\t݀\t݁\t݂\t݃\t݄\t݅\t݆\t݇\t݈\t݉\t݊\t݋\t݌\tݍ\tݎ\tݏ\tݐ\tݑ\tݒ\tݓ\tݔ\tݕ\tݖ\tݗ\tݘ\tݙ\tݚ\tݛ\tݜ\tݝ\tݞ\tݟ\tݠ\tݡ\tݢ\tݣ\tݤ\tݥ\tݦ\tݧ\tݨ\tݩ\tݪ\tݫ\tݬ\tݭ\tݮ\tݯ\tݰ\tݱ\tݲ\tݳ\tݴ\tݵ\tݶ\tݷ\tݸ\tݹ\tݺ\tݻ\tݼ\tݽ\tݾ\tݿ\tހ\tށ\tނ\tރ\tބ\tޅ\tކ\tއ\tވ\tމ\tފ\tދ\tތ\tލ\tގ\tޏ\tސ\tޑ\tޒ\tޓ\tޔ\tޕ\tޖ\tޗ\tޘ\tޙ\tޚ\tޛ\tޜ\tޝ\tޞ\tޟ\tޠ\tޡ\tޢ\tޣ\tޤ\tޥ\tަ\tާ\tި\tީ\tު\tޫ\tެ\tޭ\tޮ\tޯ\tް\tޱ\t޲\t޳\t޴\t޵\t޶\t޷\t޸\t޹\t޺\t޻\t޼\t޽\t޾\t޿\t߀\t߁\t߂\t߃\t߄\t߅\t߆\t߇\t߈\t߉\tߊ\tߋ\tߌ\tߍ\tߎ\tߏ\tߐ\tߑ\tߒ\tߓ\tߔ\tߕ\tߖ\tߗ\tߘ\tߙ\tߚ\tߛ\tߜ\tߝ\tߞ\tߟ\tߠ\tߡ\tߢ\tߣ\tߤ\tߥ\tߦ\tߧ\tߨ\tߩ\tߪ\t߫\t߬\t߭\t߮\t߯\t߰\t߱\t߲\t߳\tߴ\tߵ\t߶\t߷\t߸\t߹\tߺ\t߻\t߼\t߽\t߾\t߿\tࠀ\tࠁ\tࠂ\tࠃ\tࠄ\tࠅ\tࠆ\tࠇ\tࠈ\tࠉ\tࠊ\tࠋ\tࠌ\tࠍ\tࠎ\tࠏ\tࠐ\tࠑ\tࠒ\tࠓ\tࠔ\tࠕ\tࠖ\tࠗ\t࠘\t࠙\tࠚ\tࠛ\tࠜ\tࠝ\tࠞ\tࠟ\tࠠ\tࠡ\tࠢ\tࠣ\tࠤ\tࠥ\tࠦ\tࠧ\tࠨ\tࠩ\tࠪ\tࠫ\tࠬ\t࠭\t࠮\t࠯\t࠰\t࠱\t࠲\t࠳\t࠴\t࠵\t࠶\t࠷\t࠸\t࠹\t࠺\t࠻\t࠼\t࠽\t࠾\t࠿\tࡀ\tࡁ\tࡂ\tࡃ\tࡄ\tࡅ\tࡆ\tࡇ\tࡈ\tࡉ\tࡊ\tࡋ\tࡌ\tࡍ\tࡎ\tࡏ\tࡐ\tࡑ\tࡒ\tࡓ\tࡔ\tࡕ\tࡖ\tࡗ\tࡘ\t࡙\t࡚\t࡛\t࡜\t࡝\t࡞\t࡟\tࡠ\tࡡ\tࡢ\tࡣ\tࡤ\tࡥ\tࡦ\tࡧ\tࡨ\tࡩ\tࡪ\t࡫\t࡬\t࡭\t࡮\t࡯\tࡰ\tࡱ\tࡲ\tࡳ\tࡴ\tࡵ\tࡶ\tࡷ\tࡸ\tࡹ\tࡺ\tࡻ\tࡼ\tࡽ\tࡾ\tࡿ\tࢀ\tࢁ\tࢂ\tࢃ\tࢄ\tࢅ\tࢆ\tࢇ\t࢈\tࢉ\tࢊ\tࢋ\tࢌ\tࢍ\tࢎ\t࢏\t࢐\t࢑\t࢒\t࢓\t࢔\t࢕\t࢖\tࢗ\t࢘\t࢙\t࢚\t࢛\t࢜\t࢝\t࢞\t࢟\tࢠ\tࢡ\tࢢ\tࢣ\tࢤ\tࢥ\tࢦ\tࢧ\tࢨ\tࢩ\tࢪ\tࢫ\tࢬ\tࢭ\tࢮ\tࢯ\tࢰ\tࢱ\tࢲ\tࢳ\tࢴ\tࢵ\tࢶ\tࢷ\tࢸ\tࢹ\tࢺ\tࢻ\tࢼ\tࢽ\tࢾ\tࢿ\tࣀ\tࣁ\tࣂ\tࣃ\tࣄ\tࣅ\tࣆ\tࣇ\tࣈ\tࣉ\t࣊\t࣋\t࣌\t࣍\t࣎\t࣏\t࣐\t࣑\t࣒\t࣓\tࣔ\tࣕ\tࣖ\tࣗ\tࣘ\tࣙ\tࣚ\tࣛ\tࣜ\tࣝ\tࣞ\tࣟ\t࣠\t࣡\t࣢\tࣣ\tࣤ\tࣥ\tࣦ\tࣧ\tࣨ\tࣩ\t࣪\t࣫\t࣬\t࣭\t࣮\t࣯\tࣰ\tࣱ\tࣲ\tࣳ\tࣴ\tࣵ\tࣶ\tࣷ\tࣸ\tࣹ\tࣺ\tࣻ\tࣼ\tࣽ\tࣾ\tࣿ\tऀ\tँ\tं\tः\tऄ\tअ\tआ\tइ\tई\tउ\tऊ\tऋ\tऌ\tऍ\tऎ\tए\tऐ\tऑ\tऒ\tओ\tऔ\tक\tख\tग\tघ\tङ\tच\tछ\tज\tझ\tञ\tट\tठ\tड\tढ\tण\tत\tथ\tद\tध\tन\tऩ\tप\tफ\tब\tभ\tम\tय\tर\tऱ\tल\tळ\tऴ\tव\tश\tष\tस\tह\tऺ\tऻ\t़\tऽ\tा\tि\tी\tु\tू\tृ\tॄ\tॅ\tॆ\tे\tै\tॉ\tॊ\tो\tौ\t्\tॎ\tॏ\tॐ\t॑\t॒\t॓\t॔\tॕ\tॖ\tॗ\tक़\tख़\tग़\tज़\tड़\tढ़\tफ़\tय़\tॠ\tॡ\tॢ\tॣ\t।\t॥\t०\t१\t२\t३\t४\t५\t६\t७\t८\t९\t॰\tॱ\tॲ\tॳ\tॴ\tॵ\tॶ\tॷ\tॸ\tॹ\tॺ\tॻ\tॼ\tॽ\tॾ\tॿ\tঀ\tঁ\tং\tঃ\t঄\tঅ\tআ\tই\tঈ\tউ\tঊ\tঋ\tঌ\t঍\t঎\tএ\tঐ\t঑\t঒\tও\tঔ\tক\tখ\tগ\tঘ\tঙ\tচ\tছ\tজ\tঝ\tঞ\tট\tঠ\tড\tঢ\tণ\tত\tথ\tদ\tধ\tন\t঩\tপ\tফ\tব\tভ\tম\tয\tর\t঱\tল\t঳\t঴\t঵\tশ\tষ\tস\tহ\t঺\t঻\t়\tঽ\tা\tি\tী\tু\tূ\tৃ\tৄ\t৅\t৆\tে\tৈ\t৉\t৊\tো\tৌ\t্\tৎ\t৏\t৐\t৑\t৒\t৓\t৔\t৕\t৖\tৗ\t৘\t৙\t৚\t৛\tড়\tঢ়\t৞\tয়\tৠ\tৡ\tৢ\tৣ\t৤\t৥\t০\t১\t২\t৩\t৪\t৫\t৬\t৭\t৮\t৯\tৰ\tৱ\t৲\t৳\t৴\t৵\t"
          ]
        }
      ],
      "source": [
        "for i in range(2550):\n",
        "    print(chr(i),end=\"\\t\")"
      ]
    },
    {
      "cell_type": "code",
      "execution_count": 87,
      "metadata": {},
      "outputs": [
        {
          "data": {
            "text/plain": [
              "True"
            ]
          },
          "execution_count": 87,
          "metadata": {},
          "output_type": "execute_result"
        }
      ],
      "source": [
        "\"100\"<\"9\""
      ]
    },
    {
      "cell_type": "markdown",
      "metadata": {},
      "source": [
        "## Conditional"
      ]
    },
    {
      "cell_type": "code",
      "execution_count": 94,
      "metadata": {},
      "outputs": [
        {
          "name": "stdout",
          "output_type": "stream",
          "text": [
            "inside if\n"
          ]
        }
      ],
      "source": [
        "age = 3\n",
        "\n",
        "if age>0:\n",
        "    print(\"inside if\")\n",
        "elif age == 3:\n",
        "    print(\"inside elif 1\")\n",
        "elif age <10:\n",
        "    print(\"Inside elif 2\")"
      ]
    },
    {
      "cell_type": "code",
      "execution_count": 95,
      "metadata": {},
      "outputs": [
        {
          "name": "stdout",
          "output_type": "stream",
          "text": [
            "Inside elif 2\n"
          ]
        }
      ],
      "source": [
        "age = 15\n",
        "if age <  3:\n",
        "    print(\"inside if\")\n",
        "elif age < 10 :\n",
        "    print(\"inside elif 1\")\n",
        "elif age < 20:\n",
        "    print(\"Inside elif 2\")"
      ]
    },
    {
      "cell_type": "code",
      "execution_count": 96,
      "metadata": {},
      "outputs": [
        {
          "name": "stdout",
          "output_type": "stream",
          "text": [
            "greater than or equals to 20\n"
          ]
        }
      ],
      "source": [
        "age = 8932\n",
        "if age <  3:\n",
        "    print(\"inside if\")\n",
        "elif age < 10 :\n",
        "    print(\"inside elif 1\")\n",
        "elif age < 20:\n",
        "    print(\"Inside elif 2\")\n",
        "else:\n",
        "    print(\"greater than or equals to 20\")"
      ]
    },
    {
      "cell_type": "code",
      "execution_count": 97,
      "metadata": {},
      "outputs": [
        {
          "ename": "SyntaxError",
          "evalue": "invalid syntax (919013643.py, line 8)",
          "output_type": "error",
          "traceback": [
            "\u001b[0;36m  Cell \u001b[0;32mIn[97], line 8\u001b[0;36m\u001b[0m\n\u001b[0;31m    elif age < 20:\u001b[0m\n\u001b[0m    ^\u001b[0m\n\u001b[0;31mSyntaxError\u001b[0m\u001b[0;31m:\u001b[0m invalid syntax\n"
          ]
        }
      ],
      "source": [
        "age = 8932\n",
        "if age <  3:\n",
        "    print(\"inside if\")\n",
        "elif age < 10 :\n",
        "    print(\"inside elif 1\")\n",
        "else:\n",
        "    print(\"greater than or equals to 20\")\n",
        "elif age < 20:\n",
        "    print(\"Inside elif 2\")\n"
      ]
    },
    {
      "cell_type": "code",
      "execution_count": null,
      "metadata": {},
      "outputs": [],
      "source": []
    }
  ],
  "metadata": {
    "colab": {
      "authorship_tag": "ABX9TyNEnj0RDoKMAGSn4JugBXDs",
      "include_colab_link": true,
      "provenance": [],
      "toc_visible": true
    },
    "kernelspec": {
      "display_name": "Python 3",
      "name": "python3"
    },
    "language_info": {
      "codemirror_mode": {
        "name": "ipython",
        "version": 3
      },
      "file_extension": ".py",
      "mimetype": "text/x-python",
      "name": "python",
      "nbconvert_exporter": "python",
      "pygments_lexer": "ipython3",
      "version": "3.12.1"
    }
  },
  "nbformat": 4,
  "nbformat_minor": 0
}
